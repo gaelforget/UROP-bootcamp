{
 "cells": [
  {
   "cell_type": "code",
   "execution_count": 2,
   "metadata": {},
   "outputs": [
    {
     "data": {
      "text/html": [
       "    <script class='js-collapse-script'>\n",
       "        var curMatch =\n",
       "            window.location.href\n",
       "            .match(/(.*?)\\/notebooks\\/.*\\.ipynb/);\n",
       "\n",
       "        curMatch = curMatch ||\n",
       "            window.location.href\n",
       "            .match(/(.*?)\\/apps\\/.*\\.ipynb/);\n",
       "\n",
       "        if ( curMatch ) {\n",
       "            $('head').append('<base href=\"' + curMatch[1] + '/\">');\n",
       "        }\n",
       "    </script>\n"
      ],
      "text/plain": [
       "HTML{String}(\"    <script class='js-collapse-script'>\\n        var curMatch =\\n            window.location.href\\n            .match(/(.*?)\\\\/notebooks\\\\/.*\\\\.ipynb/);\\n\\n        curMatch = curMatch ||\\n            window.location.href\\n            .match(/(.*?)\\\\/apps\\\\/.*\\\\.ipynb/);\\n\\n        if ( curMatch ) {\\n            \\$('head').append('<base href=\\\"' + curMatch[1] + '/\\\">');\\n        }\\n    </script>\\n\")"
      ]
     },
     "metadata": {},
     "output_type": "display_data"
    },
    {
     "data": {
      "text/html": [
       "<script class='js-collapse-script' src='/assetserver/68e8625414ebad7fa3600be04107fbeb27e26809-assets/webio/dist/bundle.js'></script>"
      ],
      "text/plain": [
       "HTML{String}(\"<script class='js-collapse-script' src='/assetserver/68e8625414ebad7fa3600be04107fbeb27e26809-assets/webio/dist/bundle.js'></script>\")"
      ]
     },
     "metadata": {},
     "output_type": "display_data"
    },
    {
     "data": {
      "text/html": [
       "<script class='js-collapse-script' src='/assetserver/68e8625414ebad7fa3600be04107fbeb27e26809-assets/providers/ijulia_setup.js'></script>"
      ],
      "text/plain": [
       "HTML{String}(\"<script class='js-collapse-script' src='/assetserver/68e8625414ebad7fa3600be04107fbeb27e26809-assets/providers/ijulia_setup.js'></script>\")"
      ]
     },
     "metadata": {},
     "output_type": "display_data"
    },
    {
     "data": {
      "text/html": [
       "  <script class='js-collapse-script'>\n",
       "    $('.js-collapse-script').parent('.output_subarea').css('padding', '0');\n",
       "  </script>\n"
      ],
      "text/plain": [
       "HTML{String}(\"  <script class='js-collapse-script'>\\n    \\$('.js-collapse-script').parent('.output_subarea').css('padding', '0');\\n  </script>\\n\")"
      ]
     },
     "metadata": {},
     "output_type": "display_data"
    }
   ],
   "source": [
    "using Interact, Plots"
   ]
  },
  {
   "cell_type": "code",
   "execution_count": 25,
   "metadata": {},
   "outputs": [
    {
     "ename": "ErrorException",
     "evalue": "No user recipe defined for Float64",
     "output_type": "error",
     "traceback": [
      "No user recipe defined for Float64",
      "",
      "Stacktrace:",
      " [1] error(::String) at ./error.jl:33",
      " [2] convertToAnyVector(::Float64, ::Dict{Symbol,Any}) at /Users/jannitta/.julia/packages/Plots/gylTh/src/series.jl:14",
      " [3] macro expansion at /Users/jannitta/.julia/packages/Plots/gylTh/src/series.jl:139 [inlined]",
      " [4] apply_recipe(::Dict{Symbol,Any}, ::Type{Plots.SliceIt}, ::StepRangeLen{Float64,Base.TwicePrecision{Float64},Base.TwicePrecision{Float64}}, ::Float64, ::Nothing) at /Users/jannitta/.julia/packages/RecipesBase/Uz5AO/src/RecipesBase.jl:275",
      " [5] _process_userrecipes(::Plots.Plot{Plots.GRBackend}, ::Dict{Symbol,Any}, ::Tuple{StepRangeLen{Float64,Base.TwicePrecision{Float64},Base.TwicePrecision{Float64}},Float64}) at /Users/jannitta/.julia/packages/Plots/gylTh/src/pipeline.jl:83",
      " [6] _plot!(::Plots.Plot{Plots.GRBackend}, ::Dict{Symbol,Any}, ::Tuple{StepRangeLen{Float64,Base.TwicePrecision{Float64},Base.TwicePrecision{Float64}},Float64}) at /Users/jannitta/.julia/packages/Plots/gylTh/src/plot.jl:178",
      " [7] #plot#136(::Base.Iterators.Pairs{Union{},Union{},Tuple{},NamedTuple{(),Tuple{}}}, ::Function, ::StepRangeLen{Float64,Base.TwicePrecision{Float64},Base.TwicePrecision{Float64}}, ::Vararg{Any,N} where N) at /Users/jannitta/.julia/packages/Plots/gylTh/src/plot.jl:57",
      " [8] plot at /Users/jannitta/.julia/packages/Plots/gylTh/src/plot.jl:51 [inlined]",
      " [9] (::getfield(Main, Symbol(\"##47#48\")))(::Int64) at ./In[25]:6",
      " [10] map(::Function, ::Observable{Int64}) at /Users/jannitta/.julia/packages/Observables/qCJWB/src/Observables.jl:174",
      " [11] top-level scope at /Users/jannitta/.julia/packages/Widgets/onfgl/src/manipulate.jl:23",
      " [12] top-level scope at In[25]:2"
     ]
    }
   ],
   "source": [
    "y = 0:0.1:10\n",
    "\n",
    "@manipulate for time in 0:10\n",
    "    x = 0:0.1:time\n",
    "    y = @. (sin(time * 2 * pi))/(2*pi*time) + (randn(1)[1] * time)\n",
    "    plot(x, y)\n",
    "end"
   ]
  },
  {
   "cell_type": "code",
   "execution_count": null,
   "metadata": {},
   "outputs": [],
   "source": []
  }
 ],
 "metadata": {
  "kernelspec": {
   "display_name": "Julia 1.1.0",
   "language": "julia",
   "name": "julia-1.1"
  },
  "language_info": {
   "file_extension": ".jl",
   "mimetype": "application/julia",
   "name": "julia",
   "version": "1.1.0"
  }
 },
 "nbformat": 4,
 "nbformat_minor": 2
}
